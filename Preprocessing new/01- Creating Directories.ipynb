{
 "cells": [
  {
   "cell_type": "markdown",
   "metadata": {},
   "source": [
    "##### Author : Sapna Mishra\n",
    "##### Project : Determining the Aggressiveness of Cancer using mpMRI Scans\n",
    "##### Last Modified: 7th Oct 2020\n",
    "##### Task:- Creating directories"
   ]
  },
  {
   "cell_type": "code",
   "execution_count": 22,
   "metadata": {},
   "outputs": [],
   "source": [
    "from pathlib import Path"
   ]
  },
  {
   "cell_type": "code",
   "execution_count": 23,
   "metadata": {},
   "outputs": [],
   "source": [
    "def generate_patient_ids(dataset_type):\n",
    "    \"\"\"\n",
    "    This function generates the patient_ids for the directories to be created below. \n",
    "    Ids are extracted from the raw dataset file structure.\n",
    "    \"\"\"\n",
    "    \n",
    "    patient_ids = []\n",
    "    path_to_date = Path()\n",
    "    \n",
    "    if dataset_type == str(1):\n",
    "        path_to_data = Path('C:/Sapna/Graham/Capstone/data/train/PROSTATEx - Copy')\n",
    "    else:\n",
    "        path_to_data = Path('C:/Sapna/Graham/Capstone/data/test/PROSTATEx - Copy')\n",
    "    \n",
    "    # Get list of patient_ids in folder\n",
    "    patient_folders = [x for x in path_to_data.iterdir() if x.is_dir()]\n",
    "    for patient_folder in patient_folders:\n",
    "        patient_ids.append(str(patient_folder.stem))\n",
    "    return patient_ids "
   ]
  },
  {
   "cell_type": "code",
   "execution_count": 24,
   "metadata": {},
   "outputs": [],
   "source": [
    "def generate_nrrd_ds(patient_ids, dataset_type):\n",
    "    \"\"\"\n",
    "    This function generates the directory structure for the nifti files\n",
    "    generated from the dicom files.\n",
    "\n",
    "    Directory structure for generated data:\n",
    "    ProstateX/generated/train/nrrd\n",
    "    ProstateX/generated/test/nrrd\n",
    "    \"\"\"\n",
    "    for patient_id in patient_ids:\n",
    "        if dataset_type == str(1):\n",
    "            new_path = Path(str('C:/Sapna/Graham/Capstone/data/train/generated/nrrd/' + patient_id))\n",
    "            new_path.mkdir(parents = True, exist_ok = True)\n",
    "            new_path.joinpath('tse_tra').mkdir(parents = True, exist_ok = True)\n",
    "            new_path.joinpath('tse_sag').mkdir(parents = True, exist_ok = True)\n",
    "            new_path.joinpath('bval').mkdir(parents = True, exist_ok = True)\n",
    "            new_path.joinpath('adc').mkdir(parents = True, exist_ok = True)\n",
    "            new_path.joinpath('ktrans').mkdir(parents = True, exist_ok = True)\n",
    "\n",
    "        else:\n",
    "            new_path = Path(str('C:/Sapna/Graham/Capstone/data/test/generated/nrrd/' + patient_id))\n",
    "            new_path.mkdir(parents = True, exist_ok = True)\n",
    "            new_path.joinpath('tse_tra').mkdir(parents = True, exist_ok = True)\n",
    "            new_path.joinpath('tse_sag').mkdir(parents = True, exist_ok = True)\n",
    "            new_path.joinpath('bval').mkdir(parents = True, exist_ok = True)\n",
    "            new_path.joinpath('adc').mkdir(parents = True, exist_ok = True)\n",
    "            new_path.joinpath('ktrans').mkdir(parents = True, exist_ok = True)"
   ]
  },
  {
   "cell_type": "code",
   "execution_count": 25,
   "metadata": {},
   "outputs": [],
   "source": [
    "def generate_nrrd_resampled_ds(patient_ids, dataset_type):\n",
    "    \"\"\"\n",
    "    This function generates the directory structure for the nifti files\n",
    "    generated from the dicom files.\n",
    "\n",
    "    Directory structure for generated data:\n",
    "    ProstateX/generated/train/nrrd_resampled\n",
    "    ProstateX/generated/test/nrrd_resampled\n",
    "    \"\"\"\n",
    "    for patient_id in patient_ids:\n",
    "        if dataset_type == str(1):\n",
    "            new_path = Path(str('C:/Sapna/Graham/Capstone/data/train/generated/nrrd_resampled/' + patient_id))\n",
    "            new_path.mkdir(parents = True, exist_ok = True)\n",
    "            new_path.joinpath('tse_tra').mkdir(parents = True, exist_ok = True)\n",
    "            new_path.joinpath('tse_sag').mkdir(parents = True, exist_ok = True)\n",
    "            new_path.joinpath('bval').mkdir(parents = True, exist_ok = True)\n",
    "            new_path.joinpath('adc').mkdir(parents = True, exist_ok = True)\n",
    "            new_path.joinpath('ktrans').mkdir(parents = True, exist_ok = True)\n",
    "\n",
    "        else:\n",
    "            new_path = Path(str('C:/Sapna/Graham/Capstone/data/test/generated/nrrd_resampled/' + patient_id))\n",
    "            new_path.mkdir(parents = True, exist_ok = True)\n",
    "            new_path.joinpath('tse_tra').mkdir(parents = True, exist_ok = True)\n",
    "            new_path.joinpath('tse_sag').mkdir(parents = True, exist_ok = True)\n",
    "            new_path.joinpath('bval').mkdir(parents = True, exist_ok = True)\n",
    "            new_path.joinpath('adc').mkdir(parents = True, exist_ok = True)\n",
    "            new_path.joinpath('ktrans').mkdir(parents = True, exist_ok = True)"
   ]
  },
  {
   "cell_type": "code",
   "execution_count": 26,
   "metadata": {},
   "outputs": [],
   "source": [
    "def generate_numpy_ds(dataset_type):\n",
    "    \"\"\"\n",
    "    This function generates the directory structure for the final numpy\n",
    "    arrays for the training and test sets. \n",
    "    \n",
    "    Director structure for processed data:\n",
    "    ProstateX/generated/train/numpy\n",
    "    ProstateX/generated/test/numpy\n",
    "    \"\"\"\n",
    "    if dataset_type == str(1):\n",
    "        new_path = Path('C:/Sapna/Graham/Capstone/data/train/generated/numpy/')\n",
    "        new_path.mkdir(parents = True, exist_ok = True)\n",
    "        new_path.joinpath('tse_tra').mkdir(parents = True, exist_ok = True)\n",
    "        new_path.joinpath('tse_sag').mkdir(parents = True, exist_ok = True)\n",
    "        new_path.joinpath('bval').mkdir(parents = True, exist_ok = True)\n",
    "        new_path.joinpath('adc').mkdir(parents = True, exist_ok = True)\n",
    "        new_path.joinpath('ktrans').mkdir(parents = True, exist_ok = True)\n",
    "    else:\n",
    "        new_path = Path('C:/Sapna/Graham/Capstone/data/test/generated/numpy/')\n",
    "        new_path.mkdir(parents = True, exist_ok = True)\n",
    "        new_path.joinpath('tse_tra').mkdir(parents = True, exist_ok = True)\n",
    "        new_path.joinpath('tse_sag').mkdir(parents = True, exist_ok = True)\n",
    "        new_path.joinpath('bval').mkdir(parents = True, exist_ok = True)\n",
    "        new_path.joinpath('adc').mkdir(parents = True, exist_ok = True)\n",
    "        new_path.joinpath('ktrans').mkdir(parents = True, exist_ok = True)"
   ]
  },
  {
   "cell_type": "code",
   "execution_count": 27,
   "metadata": {},
   "outputs": [],
   "source": [
    "def generate_dataframe_ds(dataset_type):\n",
    "    if dataset_type == str(1):\n",
    "        new_path = Path('C:/Sapna/Graham/Capstone/data/train/generated/dataframes/')\n",
    "        new_path.mkdir(parents = True, exist_ok = True)\n",
    "\n",
    "    else:\n",
    "        new_path = Path('C:/Sapna/Graham/Capstone/data/test/generated/dataframes/')\n",
    "        new_path.mkdir(parents = True, exist_ok = True)"
   ]
  },
  {
   "cell_type": "code",
   "execution_count": 28,
   "metadata": {},
   "outputs": [],
   "source": [
    "def generate_logs_ds(dataset_type):\n",
    "    if dataset_type == str(1):\n",
    "        new_path = Path('C:/Sapna/Graham/Capstone/data/train/generated/logs/')\n",
    "        new_path.mkdir(parents = True, exist_ok = True)\n",
    "\n",
    "    else:\n",
    "        new_path = Path('C:/Sapna/Graham/Capstone/data/test/generated/logs/')\n",
    "        new_path.mkdir(parents = True, exist_ok = True)"
   ]
  },
  {
   "cell_type": "code",
   "execution_count": 30,
   "metadata": {},
   "outputs": [
    {
     "name": "stdout",
     "output_type": "stream",
     "text": [
      "Generate directory structure for which type of data (1-Train; 2-Test):2\n",
      "Done creating directory structure...\n"
     ]
    }
   ],
   "source": [
    "def main():\n",
    "    dataset_type = input('Generate directory structure for which type of data (1-Train; 2-Test):')\n",
    "    patient_ids = generate_patient_ids(dataset_type)\n",
    "    generate_nrrd_ds(patient_ids, dataset_type)\n",
    "    generate_nrrd_resampled_ds(patient_ids, dataset_type)\n",
    "    generate_numpy_ds(dataset_type)\n",
    "    generate_dataframe_ds(dataset_type)\n",
    "    generate_logs_ds(dataset_type)\n",
    "    print('Done creating directory structure...')\n",
    "main()"
   ]
  }
 ],
 "metadata": {
  "kernelspec": {
   "display_name": "Python 3",
   "language": "python",
   "name": "python3"
  },
  "language_info": {
   "codemirror_mode": {
    "name": "ipython",
    "version": 3
   },
   "file_extension": ".py",
   "mimetype": "text/x-python",
   "name": "python",
   "nbconvert_exporter": "python",
   "pygments_lexer": "ipython3",
   "version": "3.7.6"
  }
 },
 "nbformat": 4,
 "nbformat_minor": 4
}
