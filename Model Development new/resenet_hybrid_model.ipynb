{
 "cells": [
  {
   "cell_type": "markdown",
   "metadata": {},
   "source": [
    "# Import Required Libraries"
   ]
  },
  {
   "cell_type": "code",
   "execution_count": null,
   "metadata": {},
   "outputs": [],
   "source": [
    "import tensorflow.keras\n",
    "from tensorflow.keras.models import Model, Sequential\n",
    "from tensorflow.keras.layers import Dense, Dropout, Flatten, Input, AveragePooling2D, Activation, AveragePooling3D\n",
    "from tensorflow.keras.layers import Conv2D, MaxPooling2D, BatchNormalization, MaxPooling3D,Conv3D\n",
    "from tensorflow.keras.layers import Concatenate, SpatialDropout2D, SpatialDropout3D\n",
    "from tensorflow.keras.initializers import glorot_uniform\n",
    "from tensorflow.keras import initializers\n",
    "from tensorflow.keras.initializers import he_normal\n",
    "from tensorflow.keras.callbacks import LearningRateScheduler, ReduceLROnPlateau, EarlyStopping, ModelCheckpoint\n",
    "from tensorflow.keras.regularizers import l2\n",
    "from tensorflow.keras.preprocessing.image import ImageDataGenerator\n",
    "import tensorflow.keras.backend as K\n",
    "#import matplotlib.pyplot as plt\n",
    "from tensorflow.keras.preprocessing.image import ImageDataGenerator, array_to_img, img_to_array, load_img\n",
    "from tensorflow.keras.layers import Input, Add, Dense, Activation, ZeroPadding2D, BatchNormalization, Flatten, Conv2D, AveragePooling2D, MaxPooling2D, GlobalMaxPooling2D\n",
    "#from tensorflow.keras.utils import plot_model\n",
    "import collections\n",
    "from sklearn.model_selection import train_test_split\n",
    "import tensorflow as tf\n",
    "from tensorflow.keras import backend as k\n",
    "import numpy as np\n",
    "import pandas as pd\n",
    "import scipy.ndimage as ndi\n",
    "from tensorflow.keras.utils import plot_model\n",
    "import sklearn.metrics as metrics\n",
    "import seaborn as sns\n",
    "\n",
    "from tensorflow.keras.applications import ResNet50,InceptionV3,VGG16,ResNet50, ResNet101,ResNet152,DenseNet121,ResNet101V2,ResNet50V2\n",
    "from tensorflow.keras.applications.resnet50 import preprocess_input\n",
    "from tensorflow.keras.preprocessing.image import img_to_array\n",
    "\n",
    "from sklearn.metrics import confusion_matrix,accuracy_score, classification_report, auc\n",
    "from sklearn.datasets import make_circles\n",
    "from sklearn.metrics import accuracy_score\n",
    "from sklearn.metrics import precision_score\n",
    "from sklearn.metrics import recall_score\n",
    "from sklearn.metrics import f1_score\n",
    "from sklearn.metrics import cohen_kappa_score\n",
    "from sklearn.metrics import roc_auc_score\n",
    "from sklearn.metrics import confusion_matrix\n",
    "from sklearn.ensemble import RandomForestClassifier\n",
    "from sklearn.tree import DecisionTreeClassifier\n",
    "from sklearn.metrics import recall_score\n",
    "from sklearn.model_selection import GridSearchCV\n",
    "\n",
    "from sklearn.preprocessing import LabelEncoder\n",
    "from tensorflow.keras.applications import ResNet50,ResNet101\n",
    "from tensorflow.keras.applications.resnet50 import preprocess_input\n",
    "from tensorflow.keras.preprocessing.image import img_to_array\n",
    "from tensorflow.keras.preprocessing.image import load_img\n",
    "from imutils import paths\n",
    "import numpy as np\n",
    "import pickle\n",
    "import random\n",
    "import os"
   ]
  },
  {
   "cell_type": "code",
   "execution_count": null,
   "metadata": {},
   "outputs": [],
   "source": [
    "t2_samples_v1 = np.load('C:/Sapna/Graham/Capstone/data/train/generated/numpy/tse_tra/X_train_t2_3D.npy',allow_pickle=True)\n",
    "t2_tra_labels  = np.load('C:/Sapna/Graham/Capstone/data/train/generated/numpy/tse_tra/Y_train_t2_3D.npy',allow_pickle=True)\n",
    "adc_samples_v1    = np.load('C:/Sapna/Graham/Capstone/data/train/generated/numpy/adc/X_train_adc_3D.npy',allow_pickle=True)\n",
    "bval_samples_v1   = np.load('C:/Sapna/Graham/Capstone/data/train/generated/numpy/bval/X_train_bval_3D.npy',allow_pickle=True)"
   ]
  },
  {
   "cell_type": "code",
   "execution_count": null,
   "metadata": {},
   "outputs": [],
   "source": [
    "# print(t2_samples_v1.shape)\n",
    "# print(adc_samples_v1.shape)\n",
    "# print(bval_samples_v1.shape)"
   ]
  },
  {
   "cell_type": "code",
   "execution_count": null,
   "metadata": {},
   "outputs": [],
   "source": [
    "# factor = 224/t2_tra_samples.shape[2]\n",
    "# print(factor)\n",
    "# t2_tra_samples_v1 = ndi.zoom(t2_tra_samples, (1,1, factor, factor), order=2)\n",
    "# print(t2_tra_samples_v1.shape)\n",
    "      \n",
    "# factor = 224/adc_samples.shape[2]\n",
    "# print(factor)\n",
    "# adc_samples_v1 = ndi.zoom(adc_samples, (1,1, factor, factor), order=2)\n",
    "# print(adc_samples_v1.shape)\n",
    "      \n",
    "# factor = 224/bval_samples.shape[2]\n",
    "# print(factor)\n",
    "# bval_samples_v1 = ndi.zoom(bval_samples, (1,1, factor, factor), order=2)\n",
    "# print(t2_tra_samples_v1.shape)"
   ]
  },
  {
   "cell_type": "code",
   "execution_count": null,
   "metadata": {},
   "outputs": [],
   "source": [
    "t2_samples_v2    = t2_samples_v1.reshape((112,60,60,3))\n",
    "adc_samples_v2   = adc_samples_v1.reshape((112,16,16,3))\n",
    "bval_samples_v2  = bval_samples_v1.reshape((112,16,16,3))\n",
    "\n",
    "# print(\"#####################################################\")\n",
    "print(t2_samples_v2.shape)\n",
    "print(adc_samples_v2.shape)\n",
    "print(bval_samples_v2.shape)"
   ]
  },
  {
   "cell_type": "code",
   "execution_count": null,
   "metadata": {},
   "outputs": [],
   "source": [
    "# np.save('C:/Sapna/Graham/Capstone/data/train/generated/numpy/tse_tra/t2_samples_224.npy',t2_samples_v2)\n",
    "# np.save('C:/Sapna/Graham/Capstone/data/train/generated/numpy/adc/adc_samples_224.npy',adc_samples_v2)\n",
    "# np.save('C:/Sapna/Graham/Capstone/data/train/generated/numpy/bval/bval_samples_224.npy',bval_samples_v2)"
   ]
  },
  {
   "cell_type": "code",
   "execution_count": null,
   "metadata": {},
   "outputs": [],
   "source": [
    "# t2_samples_v2    = np.load('C:/Sapna/Graham/Capstone/data/train/generated/numpy/tse_tra/t2_samples_224.npy',allow_pickle=True)\n",
    "# t2_tra_labels    = np.load('C:/Sapna/Graham/Capstone/data/train/generated/numpy/tse_tra/Y_train_t2_3D.npy',allow_pickle=True)\n",
    "# adc_samples_v2   = np.load('C:/Sapna/Graham/Capstone/data/train/generated/numpy/adc/adc_samples_224.npy',allow_pickle=True)\n",
    "# bval_samples_v2  = np.load('C:/Sapna/Graham/Capstone/data/train/generated/numpy/bval/bval_samples_224.npy',allow_pickle=True)"
   ]
  },
  {
   "cell_type": "code",
   "execution_count": null,
   "metadata": {},
   "outputs": [],
   "source": [
    "# t2_samples_v2    = np.load('C:/Sapna/Graham/Capstone/data/train/generated/numpy/tse_tra/t2_samples_v2.npy',allow_pickle=True)\n",
    "# t2_tra_labels    = np.load('C:/Sapna/Graham/Capstone/data/train/generated/numpy/tse_tra/Y_train_t2_3D.npy',allow_pickle=True)\n",
    "# adc_samples_v2   = np.load('C:/Sapna/Graham/Capstone/data/train/generated/numpy/adc/adc_samples_v2.npy',allow_pickle=True)\n",
    "# bval_samples_v2  = np.load('C:/Sapna/Graham/Capstone/data/train/generated/numpy/bval/bval_samples_v2.npy',allow_pickle=True)"
   ]
  },
  {
   "cell_type": "code",
   "execution_count": null,
   "metadata": {},
   "outputs": [],
   "source": [
    "target_tra = []\n",
    "for i in t2_tra_labels:\n",
    "    if i == 1:\n",
    "        target_tra.append(\"0\")\n",
    "    elif i == 2 or i ==3:\n",
    "        target_tra.append(\"1\")\n",
    "#     elif i == 3:\n",
    "#         target_tra.append(\"2\")\n",
    "#     elif i == 4:\n",
    "#         target_tra.append(\"3\")\n",
    "    else:\n",
    "        target_tra.append(\"2\")\n",
    "\n",
    "print(\"The frequency count of the GS:\")\n",
    "collections.Counter(target_tra)"
   ]
  },
  {
   "cell_type": "code",
   "execution_count": 10,
   "metadata": {},
   "outputs": [],
   "source": [
    "t2_labels = np.array(pd.get_dummies(target_tra))"
   ]
  },
  {
   "cell_type": "code",
   "execution_count": 11,
   "metadata": {},
   "outputs": [
    {
     "name": "stdout",
     "output_type": "stream",
     "text": [
      "Counter({1: 61, 0: 36, 2: 15})\n"
     ]
    }
   ],
   "source": [
    "t2_categorical = pd.DataFrame(t2_labels).idxmax(axis=1)\n",
    "print(collections.Counter(t2_categorical))"
   ]
  },
  {
   "cell_type": "markdown",
   "metadata": {},
   "source": [
    "# Split the train and test data"
   ]
  },
  {
   "cell_type": "code",
   "execution_count": 12,
   "metadata": {},
   "outputs": [
    {
     "name": "stdout",
     "output_type": "stream",
     "text": [
      "Counter({1: 38, 0: 23, 2: 10})\n",
      "Counter({1: 10, 0: 6, 2: 2})\n",
      "Counter({1: 13, 0: 7, 2: 3})\n",
      "(71, 60, 60, 3)\n",
      "(23, 60, 60, 3)\n",
      "(18, 60, 60, 3)\n"
     ]
    }
   ],
   "source": [
    "x_train_t2,x_test_t2,y_train_t2,y_test_t2 = train_test_split(t2_samples_v2,t2_labels,\n",
    "                                                                     test_size=0.20, \n",
    "                                                                     stratify=t2_labels,  \n",
    "                                                                     random_state=42)\n",
    "\n",
    "x_train_t2,x_val_t2,y_train_t2,y_val_t2 = train_test_split(x_train_t2,y_train_t2,\n",
    "                                                                     test_size=0.20, \n",
    "                                                                     stratify=y_train_t2,  \n",
    "                                                                     random_state=42)\n",
    "\n",
    "categorical_train_labels = pd.DataFrame(y_train_t2).idxmax(axis=1)\n",
    "print(collections.Counter(categorical_train_labels))\n",
    "categorical_val_labels = pd.DataFrame(y_val_t2).idxmax(axis=1)\n",
    "print(collections.Counter(categorical_val_labels))\n",
    "categorical_test_labels = pd.DataFrame(y_test_t2).idxmax(axis=1)\n",
    "print(collections.Counter(categorical_test_labels))\n",
    "print(x_train_t2.shape)\n",
    "print(x_test_t2.shape)\n",
    "print(x_val_t2.shape)"
   ]
  },
  {
   "cell_type": "code",
   "execution_count": 13,
   "metadata": {},
   "outputs": [
    {
     "name": "stdout",
     "output_type": "stream",
     "text": [
      "Counter({1: 38, 0: 23, 2: 10})\n",
      "Counter({1: 10, 0: 6, 2: 2})\n",
      "Counter({1: 13, 0: 7, 2: 3})\n",
      "(71, 16, 16, 3)\n",
      "(23, 16, 16, 3)\n"
     ]
    }
   ],
   "source": [
    "x_train_adc,x_test_adc,y_train_adc,y_test_adc = train_test_split(adc_samples_v2,t2_labels,\n",
    "                                                                     test_size=0.20, \n",
    "                                                                     stratify=t2_labels,  \n",
    "                                                                     random_state=42)\n",
    "\n",
    "x_train_adc,x_val_adc,y_train_adc,y_val_adc = train_test_split(x_train_adc,y_train_adc,\n",
    "                                                                     test_size=0.20, \n",
    "                                                                     stratify=y_train_adc,  \n",
    "                                                                     random_state=42)\n",
    "\n",
    "categorical_train_labels = pd.DataFrame(y_train_adc).idxmax(axis=1)\n",
    "print(collections.Counter(categorical_train_labels))\n",
    "categorical_val_labels = pd.DataFrame(y_val_adc).idxmax(axis=1)\n",
    "print(collections.Counter(categorical_val_labels))\n",
    "categorical_test_labels = pd.DataFrame(y_test_adc).idxmax(axis=1)\n",
    "print(collections.Counter(categorical_test_labels))\n",
    "print(x_train_adc.shape)\n",
    "print(x_test_adc.shape)"
   ]
  },
  {
   "cell_type": "code",
   "execution_count": 14,
   "metadata": {},
   "outputs": [
    {
     "name": "stdout",
     "output_type": "stream",
     "text": [
      "Counter({1: 38, 0: 23, 2: 10})\n",
      "Counter({1: 10, 0: 6, 2: 2})\n",
      "Counter({1: 13, 0: 7, 2: 3})\n",
      "(71, 16, 16, 3)\n",
      "(23, 16, 16, 3)\n"
     ]
    }
   ],
   "source": [
    "x_train_bval,x_test_bval,y_train_bval,y_test_bval = train_test_split(bval_samples_v2,t2_labels,\n",
    "                                                                     test_size=0.20, \n",
    "                                                                     stratify=t2_labels,  \n",
    "                                                                     random_state=42)\n",
    "\n",
    "x_train_bval,x_val_bval,y_train_bval,y_val_bval = train_test_split(x_train_bval,y_train_bval,\n",
    "                                                                     test_size=0.20, \n",
    "                                                                     stratify=y_train_bval,  \n",
    "                                                                     random_state=42)\n",
    "\n",
    "categorical_train_labels = pd.DataFrame(y_train_bval).idxmax(axis=1)\n",
    "print(collections.Counter(categorical_train_labels))\n",
    "categorical_val_labels = pd.DataFrame(y_val_bval).idxmax(axis=1)\n",
    "print(collections.Counter(categorical_val_labels))\n",
    "categorical_test_labels = pd.DataFrame(y_test_bval).idxmax(axis=1)\n",
    "print(collections.Counter(categorical_test_labels))\n",
    "print(x_train_bval.shape)\n",
    "print(x_test_bval.shape)"
   ]
  },
  {
   "cell_type": "code",
   "execution_count": 15,
   "metadata": {},
   "outputs": [],
   "source": [
    "# Data Augmentation"
   ]
  },
  {
   "cell_type": "code",
   "execution_count": null,
   "metadata": {},
   "outputs": [],
   "source": [
    "x_train_t2_aug = x_train_t2\n",
    "y_train_t2_aug = y_train_t2\n",
    "\n",
    "for i in range(0,32):\n",
    "    datagen = ImageDataGenerator(\n",
    "        rotation_range = 90,\n",
    "        horizontal_flip = True,\n",
    "        vertical_flip = True\n",
    "    )\n",
    "\n",
    "    datagen.fit(x_train_t2_aug)\n",
    "\n",
    "    for X_batch, y_batch in datagen.flow(x_train_t2_aug, y_train_t2_aug, batch_size=32):\n",
    "        break\n",
    "\n",
    "    x_train_t2_aug = np.append(x_train_t2_aug,X_batch,axis=0)\n",
    "    y_train_t2_aug = np.append(y_train_t2_aug,y_batch,axis=0)\n",
    "\n",
    "\n",
    "print(\"Train X1 size:\",x_train_t2_aug.shape)\n",
    "print(\"Train Y1 size:\",y_train_t2_aug.shape)"
   ]
  },
  {
   "cell_type": "code",
   "execution_count": null,
   "metadata": {},
   "outputs": [],
   "source": [
    "x_train_adc_aug = x_train_adc\n",
    "y_train_adc_aug = y_train_adc\n",
    "\n",
    "for i in range(0,32):\n",
    "    datagen = ImageDataGenerator(\n",
    "        rotation_range = 90,\n",
    "        horizontal_flip = True,\n",
    "        vertical_flip = True\n",
    "    )\n",
    "\n",
    "    datagen.fit(x_train_adc_aug)\n",
    "\n",
    "    for X_batch, y_batch in datagen.flow(x_train_adc_aug, y_train_adc_aug, batch_size=32):\n",
    "        break\n",
    "\n",
    "    x_train_adc_aug = np.append(x_train_adc_aug,X_batch,axis=0)\n",
    "    y_train_adc_aug = np.append(y_train_adc_aug,y_batch,axis=0)\n",
    "\n",
    "\n",
    "print(\"Train X1 size:\",x_train_adc_aug.shape)\n",
    "print(\"Train Y1 size:\",y_train_adc_aug.shape)"
   ]
  },
  {
   "cell_type": "code",
   "execution_count": null,
   "metadata": {},
   "outputs": [],
   "source": [
    "x_train_bval_aug = x_train_bval\n",
    "y_train_bval_aug = y_train_bval\n",
    "\n",
    "for i in range(0,32):\n",
    "    datagen = ImageDataGenerator(\n",
    "        rotation_range = 90,\n",
    "        horizontal_flip = True,\n",
    "        vertical_flip = True\n",
    "    )\n",
    "\n",
    "    datagen.fit(x_train_bval_aug)\n",
    "\n",
    "    for X_batch, y_batch in datagen.flow(x_train_bval_aug, y_train_bval_aug, batch_size=32):\n",
    "        break\n",
    "\n",
    "    x_train_bval_aug = np.append(x_train_bval_aug,X_batch,axis=0)\n",
    "    y_train_bval_aug = np.append(y_train_bval_aug,y_batch,axis=0)\n",
    "\n",
    "\n",
    "print(\"Train X1 size:\",x_train_bval_aug.shape)\n",
    "print(\"Train Y1 size:\",y_train_bval_aug.shape)"
   ]
  },
  {
   "cell_type": "code",
   "execution_count": 17,
   "metadata": {},
   "outputs": [
    {
     "name": "stdout",
     "output_type": "stream",
     "text": [
      "(71, 299, 299, 3)\n",
      "(71, 299, 299, 3)\n",
      "(71, 299, 299, 3)\n"
     ]
    }
   ],
   "source": [
    "factor = 299/x_train_t2.shape[2]\n",
    "x_train_t2_v1 = ndi.zoom(x_train_t2,(1,factor, factor,1), order=2)\n",
    "print(x_train_t2_v1.shape)\n",
    "\n",
    "factor = 299/x_train_bval.shape[2]\n",
    "x_train_bval_v1 = ndi.zoom(x_train_bval, (1,factor,factor,1), order=2)\n",
    "print(x_train_bval_v1.shape)\n",
    "\n",
    "factor = 299/x_train_adc.shape[2]\n",
    "x_train_adc_v1 = ndi.zoom(x_train_adc,(1,factor, factor,1), order=2)\n",
    "print(x_train_adc_v1.shape)"
   ]
  },
  {
   "cell_type": "code",
   "execution_count": 19,
   "metadata": {},
   "outputs": [
    {
     "name": "stdout",
     "output_type": "stream",
     "text": [
      "(18, 299, 299, 3)\n",
      "(18, 299, 299, 3)\n",
      "(18, 16, 16, 3)\n"
     ]
    }
   ],
   "source": [
    "factor = 299/x_val_t2.shape[2]\n",
    "x_val_t2_v1 = ndi.zoom(x_val_t2,(1,factor, factor,1), order=2)\n",
    "print(x_val_t2_v1.shape)\n",
    "factor = 299/x_val_adc.shape[2]\n",
    "x_val_adc_v1 = ndi.zoom(x_val_adc,(1,factor, factor,1), order=2)\n",
    "print(x_val_adc_v1.shape)\n",
    "factor = 299/x_val_bval.shape[2]\n",
    "x_val_bval_v1 = ndi.zoom(x_val_bval,(1,factor, factor,1), order=2)\n",
    "print(x_val_bval.shape)"
   ]
  },
  {
   "cell_type": "code",
   "execution_count": 20,
   "metadata": {},
   "outputs": [
    {
     "name": "stdout",
     "output_type": "stream",
     "text": [
      "(23, 299, 299, 3)\n",
      "(23, 299, 299, 3)\n",
      "(23, 16, 16, 3)\n"
     ]
    }
   ],
   "source": [
    "factor = 299/x_test_t2.shape[2]\n",
    "x_test_t2_v1 = ndi.zoom(x_test_t2,(1,factor, factor,1), order=2)\n",
    "print(x_test_t2_v1.shape)\n",
    "factor = 299/x_test_adc.shape[2]\n",
    "x_test_adc_v1 = ndi.zoom(x_test_adc,(1,factor, factor,1), order=2)\n",
    "print(x_test_adc_v1.shape)\n",
    "factor = 299/x_test_bval.shape[2]\n",
    "x_test_bval_v1 = ndi.zoom(x_test_bval,(1,factor, factor,1), order=2)\n",
    "print(x_test_bval.shape)"
   ]
  },
  {
   "cell_type": "code",
   "execution_count": 21,
   "metadata": {},
   "outputs": [],
   "source": [
    "# base_model = ResNet152(weights=\"imagenet\", include_top=False)\n",
    "\n",
    "# base_model = VGG16(include_top=False,weights=\"imagenet\")\n",
    "# base_model = ResNet101(weights=\"imagenet\", include_top=False)\n",
    "# base_model = ResNet50(weights=\"imagenet\", include_top=False)\n",
    "# base_model = ResNet152(weights=\"imagenet\", include_top=False)\n",
    "\n",
    "# base_model = ResNet50V2(weights=\"imagenet\", include_top=False)\n",
    "# base_model = ResNet101V2(weights=\"imagenet\", include_top=False)\n",
    "\n",
    "# base_model = DenseNet121(weights=\"imagenet\", include_top=False)\n",
    "\n",
    "base_model = InceptionV3(include_top=False)\n",
    "# base_model.summary()\n",
    "# model = Model(inputs=base_model.input, outputs=base_model.get_layer('batch_normalization_938').output)"
   ]
  },
  {
   "cell_type": "code",
   "execution_count": 22,
   "metadata": {},
   "outputs": [],
   "source": [
    "# x_train_t2    = x_train_t2_aug_v1/255.\n",
    "# x_train_adc   = x_train_adc_aug_v1/255.\n",
    "# x_train_bval  = x_train_bval_aug_v1/255.\n",
    "\n",
    "x_train_t2    = x_train_t2_v1/255.\n",
    "x_train_adc   = x_train_adc_v1/255.\n",
    "x_train_bval  = x_train_bval_v1/255.\n",
    "\n",
    "x_val_t2      = x_val_t2_v1/255.\n",
    "x_val_adc     = x_val_adc_v1/255.\n",
    "x_val_bval    = x_val_bval_v1/255.\n",
    "\n",
    "x_test_t2     = x_test_t2_v1/255.\n",
    "x_test_adc    = x_test_adc_v1/255.\n",
    "x_test_bval   = x_test_bval_v1/255."
   ]
  },
  {
   "cell_type": "code",
   "execution_count": 25,
   "metadata": {},
   "outputs": [
    {
     "name": "stdout",
     "output_type": "stream",
     "text": [
      "(71, 299, 299, 3)\n",
      "(71, 299, 299, 3)\n",
      "(71, 299, 299, 3)\n"
     ]
    }
   ],
   "source": [
    "m=8\n",
    "n=8\n",
    "p=2048\n",
    "\n",
    "print(x_train_t2.shape)\n",
    "print(x_train_adc.shape)\n",
    "print(x_train_bval.shape)"
   ]
  },
  {
   "cell_type": "code",
   "execution_count": 26,
   "metadata": {},
   "outputs": [
    {
     "name": "stdout",
     "output_type": "stream",
     "text": [
      "(71, 131072)\n",
      "(71, 131072)\n",
      "(71, 131072)\n"
     ]
    }
   ],
   "source": [
    "train_features_t2   = base_model.predict(x_train_t2)\n",
    "# print(train_features_t2.shape)\n",
    "x_train_features_t2 = train_features_t2.reshape((train_features_t2.shape[0], m * n * p))\n",
    "\n",
    "train_features_adc   = base_model.predict(x_train_adc)\n",
    "x_train_features_adc = train_features_adc.reshape((train_features_adc.shape[0], m * n * p))\n",
    "\n",
    "train_features_bval = base_model.predict(x_train_bval)\n",
    "x_train_features_bval = train_features_bval.reshape((train_features_bval.shape[0], m * n * p))\n",
    "\n",
    "print(x_train_features_t2.shape)\n",
    "print(x_train_features_adc.shape)\n",
    "print(x_train_features_bval.shape)"
   ]
  },
  {
   "cell_type": "code",
   "execution_count": 71,
   "metadata": {},
   "outputs": [
    {
     "data": {
      "text/plain": [
       "(71, 393216)"
      ]
     },
     "execution_count": 71,
     "metadata": {},
     "output_type": "execute_result"
    }
   ],
   "source": [
    "train_data = np.append(x_train_features_t2,x_train_features_adc,axis=1)\n",
    "train_data_v1 = np.append(train_data,x_train_features_bval,axis=1)\n",
    "train_data_v1.shape"
   ]
  },
  {
   "cell_type": "code",
   "execution_count": 28,
   "metadata": {},
   "outputs": [
    {
     "name": "stdout",
     "output_type": "stream",
     "text": [
      "(23, 131072)\n",
      "(23, 131072)\n",
      "(23, 131072)\n"
     ]
    }
   ],
   "source": [
    "test_features_t2   = base_model.predict(x_test_t2)\n",
    "x_test_features_t2 = test_features_t2.reshape((test_features_t2.shape[0], m * n * p))\n",
    "\n",
    "test_features_adc   = base_model.predict(x_test_adc)\n",
    "x_test_features_adc = test_features_adc.reshape((test_features_adc.shape[0], m * n * p))\n",
    "\n",
    "test_features_bval = base_model.predict(x_test_bval)\n",
    "x_test_features_bval = test_features_bval.reshape((test_features_bval.shape[0], m * n * p))\n",
    "\n",
    "print(x_test_features_t2.shape)\n",
    "print(x_test_features_adc.shape)\n",
    "print(x_test_features_bval.shape)"
   ]
  },
  {
   "cell_type": "code",
   "execution_count": 72,
   "metadata": {},
   "outputs": [
    {
     "data": {
      "text/plain": [
       "(23, 393216)"
      ]
     },
     "execution_count": 72,
     "metadata": {},
     "output_type": "execute_result"
    }
   ],
   "source": [
    "test_data = np.append(x_test_features_t2,x_test_features_adc,axis=1)\n",
    "test_data_v1 = np.append(test_data,x_test_features_bval,axis=1)\n",
    "test_data_v1.shape"
   ]
  },
  {
   "cell_type": "code",
   "execution_count": 31,
   "metadata": {},
   "outputs": [
    {
     "name": "stdout",
     "output_type": "stream",
     "text": [
      "(18, 131072)\n",
      "(18, 131072)\n",
      "(18, 131072)\n"
     ]
    }
   ],
   "source": [
    "val_features_t2   = base_model.predict(x_val_t2, batch_size=32)\n",
    "x_val_features_t2 = val_features_t2.reshape((val_features_t2.shape[0], m * n * p))\n",
    "\n",
    "# train_batchImages_adc = np.vstack([x_train_adc])\n",
    "val_features_adc   = base_model.predict(x_val_adc, batch_size=32)\n",
    "x_val_features_adc = val_features_adc.reshape((val_features_adc.shape[0], m * n * p))\n",
    "\n",
    "# # train_batchImages_bval = np.vstack([x_train_bval])\n",
    "val_features_bval = base_model.predict(x_val_bval, batch_size=32)\n",
    "x_val_features_bval = val_features_bval.reshape((val_features_bval.shape[0], m * n * p))\n",
    "\n",
    "print(x_val_features_t2.shape)\n",
    "print(x_val_features_adc.shape)\n",
    "print(x_val_features_bval.shape)"
   ]
  },
  {
   "cell_type": "code",
   "execution_count": 73,
   "metadata": {},
   "outputs": [
    {
     "data": {
      "text/plain": [
       "(18, 393216)"
      ]
     },
     "execution_count": 73,
     "metadata": {},
     "output_type": "execute_result"
    }
   ],
   "source": [
    "val_data = np.append(x_val_features_t2,x_val_features_adc,axis=1)\n",
    "val_data_v1 = np.append(val_data,x_val_features_bval,axis=1)\n",
    "val_data_v1.shape"
   ]
  },
  {
   "cell_type": "code",
   "execution_count": 74,
   "metadata": {},
   "outputs": [
    {
     "name": "stdout",
     "output_type": "stream",
     "text": [
      "Counter({1: 38, 0: 23, 2: 10})\n",
      "Counter({1: 10, 0: 6, 2: 2})\n",
      "Counter({1: 13, 0: 7, 2: 3})\n"
     ]
    }
   ],
   "source": [
    "categorical_train_labels = pd.DataFrame(y_train_t2).idxmax(axis=1)\n",
    "print(collections.Counter(categorical_train_labels))\n",
    "categorical_val_labels = pd.DataFrame(y_val_t2).idxmax(axis=1)\n",
    "print(collections.Counter(categorical_val_labels))\n",
    "categorical_test_labels = pd.DataFrame(y_test_t2).idxmax(axis=1)\n",
    "print(collections.Counter(categorical_test_labels))"
   ]
  },
  {
   "cell_type": "code",
   "execution_count": 75,
   "metadata": {},
   "outputs": [
    {
     "name": "stdout",
     "output_type": "stream",
     "text": [
      "(71, 3)\n",
      "(18, 3)\n",
      "(23, 3)\n",
      "(71, 393216)\n",
      "(18, 393216)\n",
      "(23, 393216)\n"
     ]
    }
   ],
   "source": [
    "# y_train = np.vstack([y_train_t2,y_train_adc,y_train_bval])\n",
    "# y_val   = np.vstack([y_val_t2,y_val_adc,y_val_bval])\n",
    "# y_test  = np.vstack([y_test_t2,y_test_adc,y_test_bval])\n",
    "\n",
    "y_train = y_train_t2\n",
    "y_val   = y_val_t2\n",
    "y_test  = y_test_t2\n",
    "\n",
    "print(y_train.shape)\n",
    "print(y_val.shape)\n",
    "print(y_test.shape)\n",
    "\n",
    "print(train_data_v1.shape)\n",
    "print(val_data_v1.shape)\n",
    "print(test_data_v1.shape)"
   ]
  },
  {
   "cell_type": "code",
   "execution_count": 76,
   "metadata": {},
   "outputs": [],
   "source": [
    "from sklearn.preprocessing import StandardScaler\n",
    "sc = StandardScaler()\n",
    "x_train_t2_v1 = sc.fit_transform(train_data_v1)\n",
    "x_val_t2_v1   = sc.transform(val_data_v1)\n",
    "x_test_t2_v1  = sc.transform(test_data_v1)"
   ]
  },
  {
   "cell_type": "code",
   "execution_count": 77,
   "metadata": {},
   "outputs": [],
   "source": [
    "y_train_t2_v1  = y_train\n",
    "y_val_t2_v1    = y_val\n",
    "y_test_t2_v1   = y_test"
   ]
  },
  {
   "cell_type": "code",
   "execution_count": 78,
   "metadata": {},
   "outputs": [],
   "source": [
    "from sklearn.decomposition import PCA\n",
    "pca = PCA(.95)\n",
    "principalComponents_train = pca.fit_transform(x_train_t2_v1)\n",
    "principalComponents_val   = pca.transform(x_val_t2_v1)\n",
    "principalComponents_test  = pca.transform(x_test_t2_v1)"
   ]
  },
  {
   "cell_type": "code",
   "execution_count": 79,
   "metadata": {},
   "outputs": [
    {
     "data": {
      "image/png": "[encoded data removed]",
      "text/plain": [
       "<Figure size 432x288 with 1 Axes>"
      ]
     },
     "metadata": {
      "needs_background": "light"
     },
     "output_type": "display_data"
    }
   ],
   "source": [
    "pca.explained_variance_ratio_\n",
    "import numpy as np\n",
    "import matplotlib\n",
    "import matplotlib.pyplot as plt\n",
    "\n",
    "PC_values = np.arange(pca.n_components_) + 1\n",
    "plt.plot(PC_values, pca.explained_variance_ratio_, 'ro-', linewidth=2)\n",
    "plt.title('Scree Plot')\n",
    "plt.xlabel('Principal Component')\n",
    "plt.ylabel('Proportion of Variance Explained')\n",
    "plt.show()"
   ]
  },
  {
   "cell_type": "code",
   "execution_count": 80,
   "metadata": {},
   "outputs": [
    {
     "name": "stdout",
     "output_type": "stream",
     "text": [
      "Train (71, 63)\n",
      "Val (18, 63)\n",
      "Test (23, 63)\n"
     ]
    }
   ],
   "source": [
    "print(\"Train\",principalComponents_train.shape)\n",
    "print(\"Val\",principalComponents_val.shape)\n",
    "print(\"Test\",principalComponents_test.shape)"
   ]
  },
  {
   "cell_type": "code",
   "execution_count": 81,
   "metadata": {},
   "outputs": [
    {
     "name": "stdout",
     "output_type": "stream",
     "text": [
      "Counter({1: 38, 0: 23, 2: 10})\n",
      "(71,)\n"
     ]
    }
   ],
   "source": [
    "t2_categorical = pd.DataFrame(y_train_t2_v1).idxmax(axis=1)\n",
    "print(collections.Counter(t2_categorical))\n",
    "print(t2_categorical.shape)"
   ]
  },
  {
   "cell_type": "code",
   "execution_count": 82,
   "metadata": {},
   "outputs": [],
   "source": [
    "from sklearn.ensemble import RandomForestClassifier\n",
    "from sklearn.tree import DecisionTreeClassifier\n",
    "from logitboost import LogitBoost\n",
    "from sklearn.ensemble import AdaBoostClassifier"
   ]
  },
  {
   "cell_type": "code",
   "execution_count": 84,
   "metadata": {},
   "outputs": [],
   "source": [
    "param_grid = {'n_estimators':[50,100,150,200,250,350],\n",
    "             'min_samples_split':[0.01,0.05,0.1],\n",
    "             'max_depth':[5,10,15],\n",
    "             'max_features' :['auto', 'sqrt', 'log2'],\n",
    "             'bootstrap' : [False,True],\n",
    "             'random_state':[42]}\n",
    "model = RandomForestClassifier()\n",
    "rf_grid = GridSearchCV(model,param_grid,cv =5,refit=True,n_jobs=-1,verbose=5)\n",
    "rf_grid.fit(principalComponents_train, y_train_t2_v1)"
   ]
  },
  {
   "cell_type": "code",
   "execution_count": null,
   "metadata": {},
   "outputs": [],
   "source": [
    "grid_model = rf_grid.best_estimator_\n",
    "grid_model"
   ]
  },
  {
   "cell_type": "code",
   "execution_count": null,
   "metadata": {},
   "outputs": [],
   "source": [
    "# model = RandomForestClassifier(bootstrap=True, ccp_alpha=0.0, class_weight=None,\n",
    "#                        criterion='entropy', max_depth=5, max_features='log2',\n",
    "#                        max_leaf_nodes=None, max_samples=None,\n",
    "#                        min_impurity_decrease=0.0, min_impurity_split=None,\n",
    "#                        min_samples_leaf=1, min_samples_split=0.05,\n",
    "#                        min_weight_fraction_leaf=0.0, n_estimators=210,\n",
    "#                        n_jobs=None, oob_score=False, random_state=42, verbose=0,\n",
    "#                        warm_start=False)"
   ]
  },
  {
   "cell_type": "code",
   "execution_count": 85,
   "metadata": {},
   "outputs": [
    {
     "data": {
      "text/plain": [
       "RandomForestClassifier(bootstrap=False, ccp_alpha=0.0, class_weight=None,\n",
       "                       criterion='gini', max_depth=5, max_features='auto',\n",
       "                       max_leaf_nodes=None, max_samples=None,\n",
       "                       min_impurity_decrease=0.0, min_impurity_split=None,\n",
       "                       min_samples_leaf=1, min_samples_split=0.02,\n",
       "                       min_weight_fraction_leaf=0.0, n_estimators=50,\n",
       "                       n_jobs=None, oob_score=False, random_state=42, verbose=0,\n",
       "                       warm_start=False)"
      ]
     },
     "execution_count": 85,
     "metadata": {},
     "output_type": "execute_result"
    }
   ],
   "source": [
    "model = RandomForestClassifier(bootstrap=False, ccp_alpha=0.0, class_weight=None,\n",
    "                       criterion='gini', max_depth=5, max_features='auto',\n",
    "                       max_leaf_nodes=None, max_samples=None,\n",
    "                       min_impurity_decrease=0.0, min_impurity_split=None,\n",
    "                       min_samples_leaf=1, min_samples_split=0.02,\n",
    "                       min_weight_fraction_leaf=0.0, n_estimators=50,\n",
    "                       n_jobs=None, oob_score=False, random_state=42, verbose=0,\n",
    "                       warm_start=False)\n",
    "model.fit(principalComponents_train, y_train_t2_v1)"
   ]
  },
  {
   "cell_type": "code",
   "execution_count": 86,
   "metadata": {},
   "outputs": [
    {
     "name": "stdout",
     "output_type": "stream",
     "text": [
      "Counter({1: 38, 0: 23, 2: 10})\n"
     ]
    }
   ],
   "source": [
    "t2_categorical = pd.DataFrame(y_train_t2_v1).idxmax(axis=1)\n",
    "print(collections.Counter(t2_categorical))"
   ]
  },
  {
   "cell_type": "code",
   "execution_count": null,
   "metadata": {},
   "outputs": [],
   "source": [
    "from sklearn.ensemble import AdaBoostClassifier\n",
    "ada = AdaBoostClassifier(n_estimators=50, random_state=42,learning_rate=0.1)\n",
    "ada.fit(principalComponents_train, t2_categorical)"
   ]
  },
  {
   "cell_type": "code",
   "execution_count": 63,
   "metadata": {},
   "outputs": [
    {
     "data": {
      "text/plain": [
       "LogitBoost(base_estimator=DecisionTreeRegressor(ccp_alpha=0.0, criterion='mse',\n",
       "                                                max_depth=3, max_features=None,\n",
       "                                                max_leaf_nodes=None,\n",
       "                                                min_impurity_decrease=0.0,\n",
       "                                                min_impurity_split=None,\n",
       "                                                min_samples_leaf=1,\n",
       "                                                min_samples_split=2,\n",
       "                                                min_weight_fraction_leaf=0.0,\n",
       "                                                presort='deprecated',\n",
       "                                                random_state=None,\n",
       "                                                splitter='best'),\n",
       "           bootstrap=False, learning_rate=0.1, max_response=4.0,\n",
       "           n_estimators=50, random_state=42, weight_trim_quantile=0.05)"
      ]
     },
     "execution_count": 63,
     "metadata": {},
     "output_type": "execute_result"
    }
   ],
   "source": [
    "from logitboost import LogitBoost\n",
    "from sklearn.tree import DecisionTreeRegressor\n",
    "lboost = LogitBoost(DecisionTreeRegressor(max_depth=3),n_estimators=50, random_state=42,\n",
    "                    weight_trim_quantile=0.05, \n",
    "                    max_response=4.0, learning_rate=0.1, bootstrap=False)\n",
    "lboost.fit(principalComponents_train, t2_categorical)"
   ]
  },
  {
   "cell_type": "code",
   "execution_count": 87,
   "metadata": {},
   "outputs": [],
   "source": [
    "#Train \n",
    "predicted_train = lboost.predict(principalComponents_train)\n",
    "predicted_train_pd = pd.DataFrame(predicted_train)\n",
    "\n",
    "predicted_train_pd['Max'] = predicted_train_pd.idxmax(axis=1)\n",
    "# print(predicted_train_pd)\n",
    "\n",
    "actual_train = pd.DataFrame(y_train_t2_v1).idxmax(axis=1)\n",
    "# print(collections.Counter(actual_train))"
   ]
  },
  {
   "cell_type": "code",
   "execution_count": 88,
   "metadata": {},
   "outputs": [],
   "source": [
    "#Test \n",
    "predicted_val = lboost.predict(principalComponents_val)\n",
    "predicted_val_pd = pd.DataFrame(predicted_val)\n",
    "\n",
    "predicted_val_pd['Max'] = predicted_val_pd.idxmax(axis=1)\n",
    "# print(predicted_val_pd)\n",
    "\n",
    "actual_val = pd.DataFrame(y_val_t2_v1).idxmax(axis=1)\n",
    "# print(collections.Counter(actual_val))"
   ]
  },
  {
   "cell_type": "code",
   "execution_count": 89,
   "metadata": {},
   "outputs": [
    {
     "name": "stdout",
     "output_type": "stream",
     "text": [
      "Train Accuracy 0.323943661971831\n",
      "Test Accuracy 0.3333333333333333\n"
     ]
    }
   ],
   "source": [
    "from sklearn.metrics import cohen_kappa_score,accuracy_score\n",
    "print(\"Train Accuracy\", accuracy_score(actual_train,predicted_train_pd['Max']))\n",
    "print(\"Test Accuracy\", accuracy_score(actual_val,predicted_val_pd['Max']))\n",
    "# print(\"Hold-out Accuracy\", accuracy_score(actual_test,predicted_test_pd['Max']))"
   ]
  },
  {
   "cell_type": "code",
   "execution_count": 90,
   "metadata": {},
   "outputs": [
    {
     "name": "stdout",
     "output_type": "stream",
     "text": [
      "Train Report               precision    recall  f1-score   support\n",
      "\n",
      "           0       0.32      1.00      0.49        23\n",
      "           1       0.00      0.00      0.00        38\n",
      "           2       0.00      0.00      0.00        10\n",
      "           3       0.00      0.00      0.00         0\n",
      "           4       0.00      0.00      0.00         0\n",
      "\n",
      "   micro avg       0.32      0.32      0.32        71\n",
      "   macro avg       0.06      0.20      0.10        71\n",
      "weighted avg       0.10      0.32      0.16        71\n",
      "\n"
     ]
    },
    {
     "name": "stderr",
     "output_type": "stream",
     "text": [
      "C:\\Users\\dhavy\\anaconda3\\lib\\site-packages\\sklearn\\metrics\\_classification.py:1272: UndefinedMetricWarning: Precision and F-score are ill-defined and being set to 0.0 in labels with no predicted samples. Use `zero_division` parameter to control this behavior.\n",
      "  _warn_prf(average, modifier, msg_start, len(result))\n",
      "C:\\Users\\dhavy\\anaconda3\\lib\\site-packages\\sklearn\\metrics\\_classification.py:1272: UndefinedMetricWarning: Recall and F-score are ill-defined and being set to 0.0 in labels with no true samples. Use `zero_division` parameter to control this behavior.\n",
      "  _warn_prf(average, modifier, msg_start, len(result))\n"
     ]
    }
   ],
   "source": [
    "print(\"Train Report\",metrics.classification_report(actual_train, predicted_train_pd[\"Max\"], labels=[0,1,2,3,4]))"
   ]
  },
  {
   "cell_type": "code",
   "execution_count": 91,
   "metadata": {},
   "outputs": [
    {
     "name": "stdout",
     "output_type": "stream",
     "text": [
      "Test Report               precision    recall  f1-score   support\n",
      "\n",
      "           0       0.33      1.00      0.50         6\n",
      "           1       0.00      0.00      0.00        10\n",
      "           2       0.00      0.00      0.00         2\n",
      "           3       0.00      0.00      0.00         0\n",
      "           4       0.00      0.00      0.00         0\n",
      "\n",
      "   micro avg       0.33      0.33      0.33        18\n",
      "   macro avg       0.07      0.20      0.10        18\n",
      "weighted avg       0.11      0.33      0.17        18\n",
      "\n"
     ]
    }
   ],
   "source": [
    "print(\"Test Report\",metrics.classification_report(actual_val, predicted_val_pd[\"Max\"], labels=[0,1,2,3,4]))"
   ]
  },
  {
   "cell_type": "code",
   "execution_count": 69,
   "metadata": {},
   "outputs": [],
   "source": [
    "# # Train Confusion Matrix\n",
    "# cm = metrics.confusion_matrix(y_true=actual_train, y_pred=predicted_train_pd[\"Max\"])\n",
    "# plt.figure(figsize=(9,9)) \n",
    "# sns.heatmap(cm, annot=True, fmt=\".3f\", linewidths=.5, square = True, cmap=None)\n",
    "# plt.ylabel('Actual label') \n",
    "# plt.xlabel('Predicted label')"
   ]
  },
  {
   "cell_type": "code",
   "execution_count": 70,
   "metadata": {},
   "outputs": [],
   "source": [
    "# # Test Confusion Matrix\n",
    "# cm = metrics.confusion_matrix(y_true=actual_val, y_pred=predicted_val_pd[\"Max\"])\n",
    "# plt.figure(figsize=(9,9)) \n",
    "# sns.heatmap(cm, annot=True, fmt=\".3f\", linewidths=.5, square = True, cmap=None)\n",
    "# plt.ylabel('Actual label') \n",
    "# plt.xlabel('Predicted label')"
   ]
  },
  {
   "cell_type": "markdown",
   "metadata": {},
   "source": [
    "# UN - SEEN DATA"
   ]
  },
  {
   "cell_type": "code",
   "execution_count": null,
   "metadata": {},
   "outputs": [],
   "source": [
    "# Hold - out\n",
    "predicted_test = model.predict(principalComponents_test)\n",
    "predicted_test_pd = pd.DataFrame(predicted_test)\n",
    "\n",
    "predicted_test_pd['Max'] = predicted_test_pd.idxmax(axis=1)\n",
    "# predicted_test_pd\n",
    "\n",
    "actual_test = pd.DataFrame(y_test_t2_v1).idxmax(axis=1)\n",
    "print(collections.Counter(actual_test))"
   ]
  },
  {
   "cell_type": "code",
   "execution_count": null,
   "metadata": {},
   "outputs": [],
   "source": [
    "# #Hold-out Confusion Matrix\n",
    "cm = metrics.confusion_matrix(y_true=actual_test, y_pred=predicted_test_pd[\"Max\"])\n",
    "plt.figure(figsize=(9,9)) \n",
    "sns.heatmap(cm, annot=True, fmt=\".3f\", linewidths=.5, square = True, cmap=None)\n",
    "plt.ylabel('Actual label') \n",
    "plt.xlabel('Predicted label')"
   ]
  },
  {
   "cell_type": "code",
   "execution_count": null,
   "metadata": {},
   "outputs": [],
   "source": [
    "# print(\"Test Report\",metrics.classification_report(actual_test, predicted_test_pd[\"Max\"], labels=[0,1,2]))"
   ]
  },
  {
   "cell_type": "code",
   "execution_count": null,
   "metadata": {},
   "outputs": [],
   "source": []
  }
 ],
 "metadata": {
  "kernelspec": {
   "display_name": "Python 3",
   "language": "python",
   "name": "python3"
  },
  "language_info": {
   "codemirror_mode": {
    "name": "ipython",
    "version": 3
   },
   "file_extension": ".py",
   "mimetype": "text/x-python",
   "name": "python",
   "nbconvert_exporter": "python",
   "pygments_lexer": "ipython3",
   "version": "3.7.6"
  }
 },
 "nbformat": 4,
 "nbformat_minor": 4
}
